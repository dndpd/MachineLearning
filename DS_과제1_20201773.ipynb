{
  "nbformat": 4,
  "nbformat_minor": 0,
  "metadata": {
    "colab": {
      "provenance": [],
      "include_colab_link": true
    },
    "kernelspec": {
      "name": "python3",
      "display_name": "Python 3"
    }
  },
  "cells": [
    {
      "cell_type": "markdown",
      "metadata": {
        "id": "view-in-github",
        "colab_type": "text"
      },
      "source": [
        "<a href=\"https://colab.research.google.com/github/dndpd/MachineLearning/blob/main/DS_%EA%B3%BC%EC%A0%9C1_20201773.ipynb\" target=\"_parent\"><img src=\"https://colab.research.google.com/assets/colab-badge.svg\" alt=\"Open In Colab\"/></a>"
      ]
    },
    {
      "cell_type": "code",
      "metadata": {
        "pycharm": {
          "name": "#%%\n"
        },
        "id": "alxxlxeaxzTf",
        "colab": {
          "base_uri": "https://localhost:8080/"
        },
        "outputId": "98ab785a-e5a2-4c4c-88a1-125367f23ca5"
      },
      "source": [
        "# 문제 1. Hello, World! 출력하세요.\n",
        "\n",
        "# 정답 1.\n",
        "print(\"Hello, World!\")"
      ],
      "execution_count": 1,
      "outputs": [
        {
          "output_type": "stream",
          "name": "stdout",
          "text": [
            "Hello, World!\n"
          ]
        }
      ]
    },
    {
      "cell_type": "code",
      "metadata": {
        "pycharm": {
          "name": "#%%\n"
        },
        "id": "Cl8JMZ2KxzTi",
        "colab": {
          "base_uri": "https://localhost:8080/"
        },
        "outputId": "595eac55-fa98-4686-8711-06dca768c31e"
      },
      "source": [
        "# 문제 2. samsung 이라는 변수로 50000원을 설정하시오. samsung 주식 10주를 보유하고 있을 때, 총 평가금액을 출력하세요.\n",
        "\n",
        "# 정답 2.\n",
        "samsung=50000\n",
        "print(samsung*10)"
      ],
      "execution_count": 2,
      "outputs": [
        {
          "output_type": "stream",
          "name": "stdout",
          "text": [
            "500000\n"
          ]
        }
      ]
    },
    {
      "cell_type": "code",
      "metadata": {
        "pycharm": {
          "name": "#%%\n"
        },
        "id": "UchOLoQHxzTi",
        "colab": {
          "base_uri": "https://localhost:8080/"
        },
        "outputId": "d26d7e08-4484-4793-e706-221aa9302fc5"
      },
      "source": [
        "# 문제 3. 아래 변수에 바인딩된 값의 타입을 판별해보세요.\n",
        "a = \"132\"\n",
        "\n",
        "# 정답 3.\n",
        "print(type(a))"
      ],
      "execution_count": 3,
      "outputs": [
        {
          "output_type": "stream",
          "name": "stdout",
          "text": [
            "<class 'str'>\n"
          ]
        }
      ]
    },
    {
      "cell_type": "code",
      "metadata": {
        "pycharm": {
          "name": "#%%\n"
        },
        "id": "hJwEQNIVxzTj",
        "colab": {
          "base_uri": "https://localhost:8080/"
        },
        "outputId": "ef4a5857-d044-4249-aff2-5b493d0dca87"
      },
      "source": [
        "# 문제 4. 문자열 \"720\"을 정수형으로 변환한 변수와 타입을 출력하세요.\n",
        "num_str = \"720\"\n",
        "\n",
        "# 정답 4.\n",
        "print(int(num_str),type(int(num_str)))"
      ],
      "execution_count": 4,
      "outputs": [
        {
          "output_type": "stream",
          "name": "stdout",
          "text": [
            "720.0 <class 'float'>\n"
          ]
        }
      ]
    },
    {
      "cell_type": "code",
      "metadata": {
        "pycharm": {
          "name": "#%%\n"
        },
        "id": "wzitip7kxzTj",
        "colab": {
          "base_uri": "https://localhost:8080/"
        },
        "outputId": "28fce869-7b8d-4745-9d89-69948cafc240"
      },
      "source": [
        "# 문제 5. 실수형 3.141592 를 문자열로 변환한 변수와 타입을 출력하세요.\n",
        "pi = 3.141592\n",
        "\n",
        "# 정답 5.\n",
        "print(str(pi),type(str(pi)))"
      ],
      "execution_count": 5,
      "outputs": [
        {
          "output_type": "stream",
          "name": "stdout",
          "text": [
            "3.141592 <class 'str'>\n"
          ]
        }
      ]
    },
    {
      "cell_type": "code",
      "metadata": {
        "pycharm": {
          "name": "#%%\n"
        },
        "id": "KQM9hFc2xzTj",
        "colab": {
          "base_uri": "https://localhost:8080/"
        },
        "outputId": "e6f6dfc0-63d6-4ebe-b0e7-cc649acc245c"
      },
      "source": [
        "# 문제 6. 문자열 \"3.141592\" 를 실수형으로 변환한 변수와 타입을 출력하세요.\n",
        "pi = \"3.141592\"\n",
        "\n",
        "# 정답 6.\n",
        "print(float(pi),type(float(pi)))"
      ],
      "execution_count": 6,
      "outputs": [
        {
          "output_type": "stream",
          "name": "stdout",
          "text": [
            "3.141592 <class 'float'>\n"
          ]
        }
      ]
    },
    {
      "cell_type": "code",
      "metadata": {
        "pycharm": {
          "name": "#%%\n"
        },
        "id": "bjEICf1FxzTj",
        "colab": {
          "base_uri": "https://localhost:8080/"
        },
        "outputId": "5189da43-680a-4494-e50b-1abbbc08da86"
      },
      "source": [
        "# 문제 7. 에어컨이 월 48,584원에 무이자 36개월의 조건으로 홈쇼핑에서 판매 중입니다. 총 구입 금액을 계산한 후 이를 출력하세요.\n",
        "\n",
        "# 정답 7.\n",
        "ac=48584\n",
        "print(ac*36)"
      ],
      "execution_count": 7,
      "outputs": [
        {
          "output_type": "stream",
          "name": "stdout",
          "text": [
            "1749024\n"
          ]
        }
      ]
    },
    {
      "cell_type": "code",
      "metadata": {
        "pycharm": {
          "name": "#%%\n"
        },
        "id": "2PKkq8GHxzTj",
        "colab": {
          "base_uri": "https://localhost:8080/"
        },
        "outputId": "049b0791-3d89-4f1d-a4c1-7eb972019b33"
      },
      "source": [
        "# 문제 8. 두 정수 A와 B를 입력받은 다음, A+B 결과값을 출력하는 프로그램을 작성하시오.\n",
        "# 입력 시, A에 30, B에 10 입력하세요.\n",
        "# 문제 링크: https://www.acmicpc.net/problem/1000\n",
        "\n",
        "# 정답 8.\n",
        "values = input()\n",
        "values = values.split()\n",
        "a = int(values[0])\n",
        "b = int(values[1])\n",
        "# 코드 작성: A+B 결과값 출력하는 코드\n",
        "print(a+b)"
      ],
      "execution_count": 10,
      "outputs": [
        {
          "output_type": "stream",
          "name": "stdout",
          "text": [
            "30 10\n",
            "40\n"
          ]
        }
      ]
    },
    {
      "cell_type": "code",
      "metadata": {
        "pycharm": {
          "name": "#%%\n"
        },
        "id": "MWGZWKwFxzTk",
        "colab": {
          "base_uri": "https://localhost:8080/"
        },
        "outputId": "66350086-2253-4e4f-ccd2-49c2529867da"
      },
      "source": [
        "# 문제 9. 두 정수 A와 B를 입력받은 다음, A/B 결과값을 출력하는 프로그램을 작성하시오.\n",
        "# 입력 시, A에 30, B에 10 입력하세요.\n",
        "# 문제 링크: https://www.acmicpc.net/problem/1008\n",
        "\n",
        "# 정답 9.\n",
        "values = input()\n",
        "values = values.split()\n",
        "a = int(values[0])\n",
        "b = int(values[1])\n",
        "# 코드 작성: A/B 결과값 출력하는 코드\n",
        "print(a/b)"
      ],
      "execution_count": 11,
      "outputs": [
        {
          "output_type": "stream",
          "name": "stdout",
          "text": [
            "30 10\n",
            "3.0\n"
          ]
        }
      ]
    },
    {
      "cell_type": "code",
      "metadata": {
        "id": "rV1GVflHEXn0",
        "colab": {
          "base_uri": "https://localhost:8080/"
        },
        "outputId": "8975a305-2c46-4b6a-f06f-08da428e2c6c"
      },
      "source": [
        "# 문제 10. 학번과 이름이 다음과 같을 때 이름만 출력하기\n",
        "license_plate = \"20200000 홍길동\"  # 수강생 분의 학번, 이름 반영 바랍니다.\n",
        "\n",
        "# 정답 10.\n",
        "print(license_plate[-3:])"
      ],
      "execution_count": 13,
      "outputs": [
        {
          "output_type": "stream",
          "name": "stdout",
          "text": [
            "홍길동\n"
          ]
        }
      ]
    },
    {
      "cell_type": "code",
      "metadata": {
        "id": "Fuqb_cC-EQlv",
        "colab": {
          "base_uri": "https://localhost:8080/",
          "height": 35
        },
        "outputId": "bc9e19d3-bec6-4ac2-8c2c-bf63a217672e"
      },
      "source": [
        "# 문제 11. 아래의 전화번호에서 하이픈('-')을 제거하고 출력하기\n",
        "phone_number = \"010-1111-2222\"\n",
        "\n",
        "# 정답 11.\n",
        "phone_number.replace(\"-\",\"\")"
      ],
      "execution_count": 14,
      "outputs": [
        {
          "output_type": "execute_result",
          "data": {
            "text/plain": [
              "'01011112222'"
            ],
            "application/vnd.google.colaboratory.intrinsic+json": {
              "type": "string"
            }
          },
          "metadata": {},
          "execution_count": 14
        }
      ]
    },
    {
      "cell_type": "code",
      "metadata": {
        "id": "ZuRraohFFxfm",
        "colab": {
          "base_uri": "https://localhost:8080/",
          "height": 35
        },
        "outputId": "d551bd60-30f0-4ca7-b099-c8f696d6f045"
      },
      "source": [
        "# 문제 12. 아래 문자열에서 소문자 'a'를 대문자 'A'로 변경하기\n",
        "string = \"abcdfe2a354a32\"\n",
        "\n",
        "# 정답 12.\n",
        "string.replace(\"a\",\"A\")"
      ],
      "execution_count": 15,
      "outputs": [
        {
          "output_type": "execute_result",
          "data": {
            "text/plain": [
              "'Abcdfe2A354A32'"
            ],
            "application/vnd.google.colaboratory.intrinsic+json": {
              "type": "string"
            }
          },
          "metadata": {},
          "execution_count": 15
        }
      ]
    },
    {
      "cell_type": "code",
      "metadata": {
        "id": "g6r46qL8F9D6",
        "colab": {
          "base_uri": "https://localhost:8080/"
        },
        "outputId": "78c7c3d6-608e-4042-e9db-97027accf5c3"
      },
      "source": [
        "# 문제 13. 문자열을 소문자 btc_krw로 변경하기\n",
        "ticker = \"BTC_KRW\"\n",
        "\n",
        "# 정답 13.\n",
        "print(ticker.lower())"
      ],
      "execution_count": 17,
      "outputs": [
        {
          "output_type": "stream",
          "name": "stdout",
          "text": [
            "btc_krw\n"
          ]
        }
      ]
    },
    {
      "cell_type": "code",
      "metadata": {
        "id": "TNrELlmVGNJa",
        "colab": {
          "base_uri": "https://localhost:8080/"
        },
        "outputId": "f094454b-ffee-4fcc-cce7-5eee716f559e"
      },
      "source": [
        "# 문제 14. 파일 이름이 문자열로 저장되어 있을 때, startswith 함수로\n",
        "# 파일 이름이 '2020'로 시작하는지 확인하기\n",
        "file_name = \"2020_보고서.xlsx\"\n",
        "\n",
        "#정답 14.\n",
        "file_name.startswith(\"2020\")"
      ],
      "execution_count": 20,
      "outputs": [
        {
          "output_type": "execute_result",
          "data": {
            "text/plain": [
              "True"
            ]
          },
          "metadata": {},
          "execution_count": 20
        }
      ]
    },
    {
      "cell_type": "code",
      "metadata": {
        "id": "uxW8swn9GYnf",
        "colab": {
          "base_uri": "https://localhost:8080/"
        },
        "outputId": "85d106a8-c070-47b8-c6c2-007465ceb022"
      },
      "source": [
        "# 문제 15. 아래 문자열을 endswith 함수로 파일 이름이 'xlsx'로 끝나는지 확인하기\n",
        "file_name = \"보고서.xlsx\"\n",
        "\n",
        "# 정답 15.\n",
        "file_name.endswith(\"xlsx\")"
      ],
      "execution_count": 21,
      "outputs": [
        {
          "output_type": "execute_result",
          "data": {
            "text/plain": [
              "True"
            ]
          },
          "metadata": {},
          "execution_count": 21
        }
      ]
    },
    {
      "cell_type": "code",
      "metadata": {
        "id": "50tB2EFRGihu",
        "colab": {
          "base_uri": "https://localhost:8080/"
        },
        "outputId": "152073fe-1485-499b-faeb-21f9892febcd"
      },
      "source": [
        "# 문제 16. 다음의 문자열을 btc, krw로 나누기\n",
        "ticker = \"btc_krw\"\n",
        "\n",
        "# 정답 16.\n",
        "ticker.split(\"_\")"
      ],
      "execution_count": 22,
      "outputs": [
        {
          "output_type": "execute_result",
          "data": {
            "text/plain": [
              "['btc', 'krw']"
            ]
          },
          "metadata": {},
          "execution_count": 22
        }
      ]
    },
    {
      "cell_type": "code",
      "metadata": {
        "id": "94Bv-WGbGpAW",
        "colab": {
          "base_uri": "https://localhost:8080/"
        },
        "outputId": "1279c334-e982-4bdb-f1da-c4192c96f096"
      },
      "source": [
        "# 문제 17. lang1과 lang2 리스트의 원소를 모두 갖는 langs 리스트 만들기\n",
        "lang1 = [\"C\", \"C++\", \"JAVA\"]\n",
        "lang2 = [\"Python\", \"Go\", \"C#\"]\n",
        "\n",
        "# 정답 17.\n",
        "langs=lang1+lang2\n",
        "print(langs)"
      ],
      "execution_count": 23,
      "outputs": [
        {
          "output_type": "stream",
          "name": "stdout",
          "text": [
            "['C', 'C++', 'JAVA', 'Python', 'Go', 'C#']\n"
          ]
        }
      ]
    },
    {
      "cell_type": "code",
      "metadata": {
        "id": "TsIEgTVbG1cl",
        "colab": {
          "base_uri": "https://localhost:8080/"
        },
        "outputId": "edd9c9c8-2de9-46dd-ea06-219f4d533e06"
      },
      "source": [
        "# 문제 18. 다음 리스트에 저장된 데이터의 개수를 화면에 출력하기\n",
        "cook = [\"피자\", \"김밥\", \"만두\", \"양념치킨\", \"족발\", \"피자\", \"김치만두\", \"쫄면\"]\n",
        "\n",
        "# 정답 18.\n",
        "print(len(cook))"
      ],
      "execution_count": 24,
      "outputs": [
        {
          "output_type": "stream",
          "name": "stdout",
          "text": [
            "8\n"
          ]
        }
      ]
    },
    {
      "cell_type": "code",
      "metadata": {
        "id": "WtuIJ2D4HFse",
        "colab": {
          "base_uri": "https://localhost:8080/"
        },
        "outputId": "b87de3e6-1434-4614-b457-1ffc5c2709ee"
      },
      "source": [
        "# 문제 19. 슬라이싱 사용하여 홀수만 출력하기\n",
        "nums = [1, 2, 3, 4, 5, 6, 7, 8, 9, 10]\n",
        "\n",
        "# 정답 19.\n",
        "print(nums[::2])"
      ],
      "execution_count": 25,
      "outputs": [
        {
          "output_type": "stream",
          "name": "stdout",
          "text": [
            "[1, 3, 5, 7, 9]\n"
          ]
        }
      ]
    },
    {
      "cell_type": "code",
      "metadata": {
        "id": "C6Q3csBFHkgu",
        "colab": {
          "base_uri": "https://localhost:8080/"
        },
        "outputId": "d15fccb8-657b-4406-b5c0-0a546ec82384"
      },
      "source": [
        "# 문제 20. 리스트에 아래의 데이터가 바인딩 되어 있다.\n",
        "interest = ['삼성전자', 'LG전자', 'NAVER', 'SK하이닉스','미래에셋대우']\n",
        "# 아래와 같이 화면에 출력하라.\n",
        "# 출력 예시: 삼성전자/LG전자/NAVER/SK하이닉스/미래에셋대우\n",
        "\n",
        "# 정답 20.\n",
        "for i in range(len(interest)-1):\n",
        "  print(interest[i],end='/')\n",
        "print(interest[i+1])"
      ],
      "execution_count": 29,
      "outputs": [
        {
          "output_type": "stream",
          "name": "stdout",
          "text": [
            "삼성전자/LG전자/NAVER/SK하이닉스/미래에셋대우\n"
          ]
        }
      ]
    },
    {
      "cell_type": "code",
      "metadata": {
        "id": "GLALcROlH3lO",
        "colab": {
          "base_uri": "https://localhost:8080/"
        },
        "outputId": "a5aab8bf-eb5c-4221-d073-ef0b86e278af"
      },
      "source": [
        "# 문제 21. 다음 딕셔너리에서 메로나의 가격을 1300으로 수정하라.\n",
        "ice = {\n",
        "    '메로나': 1000,\n",
        "    '폴로포': 1200,\n",
        "    '빵빠레': 1800,\n",
        "    '죠스바': 1200,\n",
        "    '월드콘': 1500\n",
        "}\n",
        "\n",
        "# 정답 21.\n",
        "ice['메로나']=1300\n",
        "print(ice)"
      ],
      "execution_count": 31,
      "outputs": [
        {
          "output_type": "stream",
          "name": "stdout",
          "text": [
            "{'메로나': 1300, '폴로포': 1200, '빵빠레': 1800, '죠스바': 1200, '월드콘': 1500}\n"
          ]
        }
      ]
    },
    {
      "cell_type": "code",
      "metadata": {
        "id": "VR0TaEKCIVfd",
        "colab": {
          "base_uri": "https://localhost:8080/"
        },
        "outputId": "ca6bdd26-3188-448a-fff7-aa50c4953f7e"
      },
      "source": [
        "# 문제 22. 다음 딕셔너리에서 메로나를 삭제하라.\n",
        "ice = {\n",
        "    '메로나': 1000,\n",
        "    '폴로포': 1200,\n",
        "    '빵빠레': 1800,\n",
        "    '죠스바': 1200,\n",
        "    '월드콘': 1500\n",
        "}\n",
        "\n",
        "# 정답 22.\n",
        "del(ice['메로나'])\n",
        "print(ice)"
      ],
      "execution_count": 33,
      "outputs": [
        {
          "output_type": "stream",
          "name": "stdout",
          "text": [
            "{'폴로포': 1200, '빵빠레': 1800, '죠스바': 1200, '월드콘': 1500}\n"
          ]
        }
      ]
    },
    {
      "cell_type": "code",
      "metadata": {
        "id": "FPLJdbcDIfLh",
        "colab": {
          "base_uri": "https://localhost:8080/"
        },
        "outputId": "e07ca0b7-5ccb-4803-b019-86db8c9aac5a"
      },
      "source": [
        "# 문제 23. 다음 딕셔너리에서 메로나의 가격을 화면에 출력하라.\n",
        "inventory = {\n",
        "    \"메로나\": [300, 20],\n",
        "    \"비비빅\": [400, 3],\n",
        "    \"죠스바\": [250, 100]\n",
        "}\n",
        "\n",
        "# 정답 23.\n",
        "print(inventory['메로나'][0])"
      ],
      "execution_count": 35,
      "outputs": [
        {
          "output_type": "stream",
          "name": "stdout",
          "text": [
            "300\n"
          ]
        }
      ]
    },
    {
      "cell_type": "markdown",
      "metadata": {
        "id": "QeeBJFcoxzTm"
      },
      "source": [
        "연습문제"
      ]
    },
    {
      "cell_type": "code",
      "metadata": {
        "pycharm": {
          "name": "#%%\n"
        },
        "id": "g4N-DzKqxzTm",
        "colab": {
          "base_uri": "https://localhost:8080/"
        },
        "outputId": "1151cd97-32db-4bd5-fb04-59d2b1befc72"
      },
      "source": [
        "# 문제 24. 두 정수 A와 B를 입력받은 다음, A+B, A-B, A*B, A/B(몫), A%B(나머지) 정수형 결과값을 출력하는 프로그램을 작성하시오.\n",
        "# 입력 시, A에 32, B에 3 입력하세요.\n",
        "# 문제 링크: https://www.acmicpc.net/problem/10869\n",
        "\n",
        "# 정답 24.\n",
        "values = input()\n",
        "values = values.split()\n",
        "a = int(values[0])\n",
        "b = int(values[1])\n",
        "# 코드 작성: A+B 결과값 출력\n",
        "print(a+b)\n",
        "# 코드 작성: A-B 결과값 출력\n",
        "print(a-b)\n",
        "# 코드 작성: A*B 결과값 출력\n",
        "print(a*b)\n",
        "# 코드 작성: A/B 결과값 출력\n",
        "print(a/b)\n",
        "# 코드 작성: A%B 결과값 출력\n",
        "print(a%b)"
      ],
      "execution_count": 36,
      "outputs": [
        {
          "output_type": "stream",
          "name": "stdout",
          "text": [
            "32 3\n",
            "35\n",
            "29\n",
            "96\n",
            "10.666666666666666\n",
            "2\n"
          ]
        }
      ]
    },
    {
      "cell_type": "code",
      "metadata": {
        "pycharm": {
          "name": "#%%\n"
        },
        "id": "JNXxUSEcxzTm",
        "colab": {
          "base_uri": "https://localhost:8080/"
        },
        "outputId": "0f10e15e-a268-4289-8049-97d6503c3639"
      },
      "source": [
        "# 문제 25. 최초로 이익이 발생하는 판매량(> 손익분기점)을 출력한다. 이익이 발생하지 않으면 -1을 출력한다.\n",
        "# A는 고정비용, B는 가변 비용, C는 제품 가격이다.\n",
        "# 입력 시 1000 70 170 입력하세요.\n",
        "# 문제 링크: https://www.acmicpc.net/problem/1712\n",
        "# 손익분기점 계산식: a + b * x = c * x\n",
        "\n",
        "# 정답 25.\n",
        "values = input()\n",
        "values = values.split()\n",
        "a = int(values[0])\n",
        "b = int(values[1])\n",
        "c = int(values[2])\n",
        "# A는 고정비용, B는 가변 비용, C는 제품 가격이다.\n",
        "# 손익분기점 계산식: a + b * x = c * x\n",
        "\n",
        "# 코드 작성: 이익이 발생하지 않는 경우 -1 출력\n",
        "if c<=b:\n",
        "  print(-1)\n",
        "# 코드 작성: 최초로 이익이 발생하는 정수형 판매량(> 손익분기점) 출력\n",
        "print(a/(c-b)+1)"
      ],
      "execution_count": 46,
      "outputs": [
        {
          "output_type": "stream",
          "name": "stdout",
          "text": [
            "1000 70 170\n",
            "11.0\n"
          ]
        }
      ]
    },
    {
      "cell_type": "code",
      "metadata": {
        "pycharm": {
          "name": "#%%\n"
        },
        "id": "Ps5wJEavxzTm",
        "colab": {
          "base_uri": "https://localhost:8080/"
        },
        "outputId": "00372c34-d0b6-4f2d-961d-b3ec737bfc2b"
      },
      "source": [
        "# 문제 26. 슬라이싱 사용하여 리스트의 숫자를 역 방향으로 출력하기\n",
        "nums = [1, 2, 3, 4, 5]\n",
        "\n",
        "# 정답 26.\n",
        "print(nums[::-1])"
      ],
      "execution_count": 37,
      "outputs": [
        {
          "output_type": "stream",
          "name": "stdout",
          "text": [
            "[5, 4, 3, 2, 1]\n"
          ]
        }
      ]
    },
    {
      "cell_type": "code",
      "metadata": {
        "pycharm": {
          "name": "#%%\n"
        },
        "id": "IR-ZCAzbxzTm",
        "colab": {
          "base_uri": "https://localhost:8080/"
        },
        "outputId": "34dad515-d257-45d9-f0a5-0dbb028e02ac"
      },
      "source": [
        "# 문제 27. 회사 이름이 슬래시 ('/')로 구분되어 하나의 문자열로 저장되어 있다.\n",
        "string = \"삼성전자/LG전자/NAVER\"\n",
        "# 이를 3개의 회사 이름으로 분리시키기\n",
        "\n",
        "# 정답 27.\n",
        "string.split(\"/\")"
      ],
      "execution_count": 38,
      "outputs": [
        {
          "output_type": "execute_result",
          "data": {
            "text/plain": [
              "['삼성전자', 'LG전자', 'NAVER']"
            ]
          },
          "metadata": {},
          "execution_count": 38
        }
      ]
    },
    {
      "cell_type": "code",
      "metadata": {
        "pycharm": {
          "name": "#%%\n"
        },
        "id": "EKfshouxxzTn",
        "colab": {
          "base_uri": "https://localhost:8080/"
        },
        "outputId": "f5896adb-9305-4fe2-ef0d-a9ba57b10462"
      },
      "source": [
        "# 문제 28. 다음 딕셔너리에서 key 값으로만 구성된 리스트를 생성하라.\n",
        "icecream = {\"탱크보이\": 1200, \"폴라포\": 1200, \"빵빠레\": 1800, \"월드콘\": 1500, \"메로나\": 1000}\n",
        "\n",
        "# 정답 28.\n",
        "ice=icecream.keys()\n",
        "print(ice)"
      ],
      "execution_count": 42,
      "outputs": [
        {
          "output_type": "stream",
          "name": "stdout",
          "text": [
            "dict_keys(['탱크보이', '폴라포', '빵빠레', '월드콘', '메로나'])\n"
          ]
        }
      ]
    },
    {
      "cell_type": "code",
      "metadata": {
        "pycharm": {
          "name": "#%%\n"
        },
        "id": "GcbkcK0cxzTn",
        "colab": {
          "base_uri": "https://localhost:8080/"
        },
        "outputId": "642b4f10-c541-47e0-f4bc-5158d70beb79"
      },
      "source": [
        "# 문제 29. 다음 딕셔너리에서 values 값으로만 구성된 리스트를 생성하라.\n",
        "icecream = {\"탱크보이\": 1200, \"폴라포\": 1200, \"빵빠레\": 1800, \"월드콘\": 1500, \"메로나\": 1000}\n",
        "\n",
        "# 정답 29.\n",
        "ice=icecream.values()\n",
        "print(ice)"
      ],
      "execution_count": 43,
      "outputs": [
        {
          "output_type": "stream",
          "name": "stdout",
          "text": [
            "dict_values([1200, 1200, 1800, 1500, 1000])\n"
          ]
        }
      ]
    },
    {
      "cell_type": "code",
      "metadata": {
        "id": "Hd6nbq2A0oeL"
      },
      "source": [],
      "execution_count": null,
      "outputs": []
    }
  ]
}